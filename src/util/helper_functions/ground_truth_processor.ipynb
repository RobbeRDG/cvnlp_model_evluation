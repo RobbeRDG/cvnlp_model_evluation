{
 "cells": [
  {
   "attachments": {},
   "cell_type": "markdown",
   "metadata": {},
   "source": [
    "# Ground truth processon"
   ]
  },
  {
   "attachments": {},
   "cell_type": "markdown",
   "metadata": {},
   "source": [
    "## Setup"
   ]
  },
  {
   "cell_type": "code",
   "execution_count": 1,
   "metadata": {},
   "outputs": [],
   "source": [
    "# Set the code base path as the current working directory\n",
    "import sys\n",
    "sys.path.append('/workspaces/cvnlp_model_evaluation/src')"
   ]
  },
  {
   "cell_type": "code",
   "execution_count": 2,
   "metadata": {},
   "outputs": [],
   "source": [
    "import util.local_config as local_config\n",
    "from util.helper_functions.label_encoder import LabelEncoder\n",
    "from os.path import join"
   ]
  },
  {
   "cell_type": "code",
   "execution_count": 3,
   "metadata": {},
   "outputs": [],
   "source": [
    "# Get the raw ground truth labels\n",
    "raw_ground_truth_labels = local_config.RAW_GROUND_TRUTH_LABELS\n",
    "\n",
    "# Setup the label encoder\n",
    "label_encoder = LabelEncoder(local_config.EMOTION_LABEL_TO_ONE_HOT_INDEX)"
   ]
  },
  {
   "cell_type": "code",
   "execution_count": 4,
   "metadata": {},
   "outputs": [
    {
     "data": {
      "text/html": [
       "<div>\n",
       "<style scoped>\n",
       "    .dataframe tbody tr th:only-of-type {\n",
       "        vertical-align: middle;\n",
       "    }\n",
       "\n",
       "    .dataframe tbody tr th {\n",
       "        vertical-align: top;\n",
       "    }\n",
       "\n",
       "    .dataframe thead th {\n",
       "        text-align: right;\n",
       "    }\n",
       "</style>\n",
       "<table border=\"1\" class=\"dataframe\">\n",
       "  <thead>\n",
       "    <tr style=\"text-align: right;\">\n",
       "      <th></th>\n",
       "      <th>Sr No.</th>\n",
       "      <th>Utterance</th>\n",
       "      <th>Speaker</th>\n",
       "      <th>Emotion</th>\n",
       "      <th>Sentiment</th>\n",
       "      <th>Dialogue_ID</th>\n",
       "      <th>Utterance_ID</th>\n",
       "      <th>Season</th>\n",
       "      <th>Episode</th>\n",
       "      <th>StartTime</th>\n",
       "      <th>EndTime</th>\n",
       "      <th>Length</th>\n",
       "      <th>PitchMin</th>\n",
       "      <th>PitchMax</th>\n",
       "      <th>PitchRange</th>\n",
       "    </tr>\n",
       "  </thead>\n",
       "  <tbody>\n",
       "    <tr>\n",
       "      <th>0</th>\n",
       "      <td>1</td>\n",
       "      <td>Why do all you're coffee mugs have numbers on ...</td>\n",
       "      <td>Mark</td>\n",
       "      <td>surprise</td>\n",
       "      <td>positive</td>\n",
       "      <td>0</td>\n",
       "      <td>0</td>\n",
       "      <td>3</td>\n",
       "      <td>19</td>\n",
       "      <td>1900-01-01 00:14:38.127</td>\n",
       "      <td>1900-01-01 00:14:40.378</td>\n",
       "      <td>2.251</td>\n",
       "      <td>66.021560</td>\n",
       "      <td>2285.714286</td>\n",
       "      <td>2219.692726</td>\n",
       "    </tr>\n",
       "    <tr>\n",
       "      <th>1</th>\n",
       "      <td>2</td>\n",
       "      <td>Oh. That's so Monica can keep track. That way ...</td>\n",
       "      <td>Rachel</td>\n",
       "      <td>anger</td>\n",
       "      <td>negative</td>\n",
       "      <td>0</td>\n",
       "      <td>1</td>\n",
       "      <td>3</td>\n",
       "      <td>19</td>\n",
       "      <td>1900-01-01 00:14:40.629</td>\n",
       "      <td>1900-01-01 00:14:47.385</td>\n",
       "      <td>6.756</td>\n",
       "      <td>66.247367</td>\n",
       "      <td>2285.714286</td>\n",
       "      <td>2219.466919</td>\n",
       "    </tr>\n",
       "    <tr>\n",
       "      <th>2</th>\n",
       "      <td>3</td>\n",
       "      <td>Y'know what?</td>\n",
       "      <td>Rachel</td>\n",
       "      <td>neutral</td>\n",
       "      <td>neutral</td>\n",
       "      <td>0</td>\n",
       "      <td>2</td>\n",
       "      <td>3</td>\n",
       "      <td>19</td>\n",
       "      <td>1900-01-01 00:14:56.353</td>\n",
       "      <td>1900-01-01 00:14:57.520</td>\n",
       "      <td>1.167</td>\n",
       "      <td>65.520253</td>\n",
       "      <td>543.127457</td>\n",
       "      <td>477.607205</td>\n",
       "    </tr>\n",
       "    <tr>\n",
       "      <th>3</th>\n",
       "      <td>19</td>\n",
       "      <td>Come on, Lydia, you can do it.</td>\n",
       "      <td>Joey</td>\n",
       "      <td>neutral</td>\n",
       "      <td>neutral</td>\n",
       "      <td>1</td>\n",
       "      <td>0</td>\n",
       "      <td>1</td>\n",
       "      <td>23</td>\n",
       "      <td>1900-01-01 00:10:44.769</td>\n",
       "      <td>1900-01-01 00:10:46.146</td>\n",
       "      <td>1.377</td>\n",
       "      <td>68.101479</td>\n",
       "      <td>1818.496615</td>\n",
       "      <td>1750.395136</td>\n",
       "    </tr>\n",
       "    <tr>\n",
       "      <th>4</th>\n",
       "      <td>20</td>\n",
       "      <td>Push!</td>\n",
       "      <td>Joey</td>\n",
       "      <td>joy</td>\n",
       "      <td>positive</td>\n",
       "      <td>1</td>\n",
       "      <td>1</td>\n",
       "      <td>1</td>\n",
       "      <td>23</td>\n",
       "      <td>1900-01-01 00:10:46.146</td>\n",
       "      <td>1900-01-01 00:10:46.833</td>\n",
       "      <td>0.687</td>\n",
       "      <td>127.367811</td>\n",
       "      <td>1812.890829</td>\n",
       "      <td>1685.523018</td>\n",
       "    </tr>\n",
       "  </tbody>\n",
       "</table>\n",
       "</div>"
      ],
      "text/plain": [
       "   Sr No.                                          Utterance Speaker   \n",
       "0       1  Why do all you're coffee mugs have numbers on ...    Mark  \\\n",
       "1       2  Oh. That's so Monica can keep track. That way ...  Rachel   \n",
       "2       3                                       Y'know what?  Rachel   \n",
       "3      19                     Come on, Lydia, you can do it.    Joey   \n",
       "4      20                                              Push!    Joey   \n",
       "\n",
       "    Emotion Sentiment  Dialogue_ID  Utterance_ID  Season  Episode   \n",
       "0  surprise  positive            0             0       3       19  \\\n",
       "1     anger  negative            0             1       3       19   \n",
       "2   neutral   neutral            0             2       3       19   \n",
       "3   neutral   neutral            1             0       1       23   \n",
       "4       joy  positive            1             1       1       23   \n",
       "\n",
       "                 StartTime                  EndTime  Length    PitchMin   \n",
       "0  1900-01-01 00:14:38.127  1900-01-01 00:14:40.378   2.251   66.021560  \\\n",
       "1  1900-01-01 00:14:40.629  1900-01-01 00:14:47.385   6.756   66.247367   \n",
       "2  1900-01-01 00:14:56.353  1900-01-01 00:14:57.520   1.167   65.520253   \n",
       "3  1900-01-01 00:10:44.769  1900-01-01 00:10:46.146   1.377   68.101479   \n",
       "4  1900-01-01 00:10:46.146  1900-01-01 00:10:46.833   0.687  127.367811   \n",
       "\n",
       "      PitchMax   PitchRange  \n",
       "0  2285.714286  2219.692726  \n",
       "1  2285.714286  2219.466919  \n",
       "2   543.127457   477.607205  \n",
       "3  1818.496615  1750.395136  \n",
       "4  1812.890829  1685.523018  "
      ]
     },
     "execution_count": 4,
     "metadata": {},
     "output_type": "execute_result"
    }
   ],
   "source": [
    "# Show a number of raw ground truth labels\n",
    "raw_ground_truth_labels.head()"
   ]
  },
  {
   "cell_type": "code",
   "execution_count": 5,
   "metadata": {},
   "outputs": [],
   "source": [
    "def clean_raw_ground_truth_labels(raw_ground_truth_labels):\n",
    "    # Keep only the columns we need\n",
    "    ground_truth_labels = raw_ground_truth_labels[['Dialogue_ID', 'Utterance_ID', 'Length', 'PitchRange', 'Emotion']]\n",
    "\n",
    "    # Rename the columns\n",
    "    ground_truth_labels.columns = ['dialogue_id', 'utterance_id', 'length', 'pitch_range', 'ground_truth_emotion']\n",
    "\n",
    "    # Add an emotion_one_hot_index column\n",
    "    ground_truth_labels.loc[:,'ground_truth_emotion_one_hot_index'] = ground_truth_labels.loc[:,'ground_truth_emotion'].apply(lambda emotion: label_encoder.label_to_one_hot_index(emotion))\n",
    "\n",
    "    return ground_truth_labels"
   ]
  },
  {
   "attachments": {},
   "cell_type": "markdown",
   "metadata": {},
   "source": [
    "## Main"
   ]
  },
  {
   "cell_type": "code",
   "execution_count": 6,
   "metadata": {},
   "outputs": [
    {
     "name": "stderr",
     "output_type": "stream",
     "text": [
      "/tmp/ipykernel_18786/2080284501.py:9: SettingWithCopyWarning: \n",
      "A value is trying to be set on a copy of a slice from a DataFrame.\n",
      "Try using .loc[row_indexer,col_indexer] = value instead\n",
      "\n",
      "See the caveats in the documentation: https://pandas.pydata.org/pandas-docs/stable/user_guide/indexing.html#returning-a-view-versus-a-copy\n",
      "  ground_truth_labels.loc[:,'ground_truth_emotion_one_hot_index'] = ground_truth_labels.loc[:,'ground_truth_emotion'].apply(lambda emotion: label_encoder.label_to_one_hot_index(emotion))\n"
     ]
    }
   ],
   "source": [
    "# Clean the raw ground truth labels\n",
    "clean_ground_truth_labels = clean_raw_ground_truth_labels(raw_ground_truth_labels)\n",
    "\n",
    "# Save the clean ground truth labels\n",
    "clean_ground_truth_labels.to_csv(join(local_config.GROUND_TRUTH_FOLDER_PATH, 'ground_truth.csv'), index=False)"
   ]
  }
 ],
 "metadata": {
  "kernelspec": {
   "display_name": "base",
   "language": "python",
   "name": "python3"
  },
  "language_info": {
   "codemirror_mode": {
    "name": "ipython",
    "version": 3
   },
   "file_extension": ".py",
   "mimetype": "text/x-python",
   "name": "python",
   "nbconvert_exporter": "python",
   "pygments_lexer": "ipython3",
   "version": "3.10.9"
  },
  "orig_nbformat": 4
 },
 "nbformat": 4,
 "nbformat_minor": 2
}

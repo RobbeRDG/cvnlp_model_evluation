{
 "cells": [
  {
   "attachments": {},
   "cell_type": "markdown",
   "metadata": {},
   "source": [
    "# Ground truth processon"
   ]
  },
  {
   "attachments": {},
   "cell_type": "markdown",
   "metadata": {},
   "source": [
    "## Setup"
   ]
  },
  {
   "cell_type": "code",
   "execution_count": 1,
   "metadata": {},
   "outputs": [],
   "source": [
    "# Set the code base path as the current working directory\n",
    "import sys\n",
    "sys.path.append('/workspaces/cvnlp_model_evaluation/src')"
   ]
  },
  {
   "cell_type": "code",
   "execution_count": 2,
   "metadata": {},
   "outputs": [],
   "source": [
    "import util.local_config as local_config\n",
    "from util.helper_functions.label_encoder import LabelEncoder\n",
    "from os.path import join"
   ]
  },
  {
   "cell_type": "code",
   "execution_count": 3,
   "metadata": {},
   "outputs": [],
   "source": [
    "# Get the raw ground truth labels\n",
    "raw_ground_truth_labels = local_config.RAW_GROUND_TRUTH_LABELS\n",
    "\n",
    "# Setup the label encoder\n",
    "label_encoder = LabelEncoder(local_config.EMOTION_LABEL_TO_ONE_HOT_INDEX)"
   ]
  },
  {
   "cell_type": "code",
   "execution_count": 4,
   "metadata": {},
   "outputs": [
    {
     "data": {
      "text/html": [
       "<div>\n",
       "<style scoped>\n",
       "    .dataframe tbody tr th:only-of-type {\n",
       "        vertical-align: middle;\n",
       "    }\n",
       "\n",
       "    .dataframe tbody tr th {\n",
       "        vertical-align: top;\n",
       "    }\n",
       "\n",
       "    .dataframe thead th {\n",
       "        text-align: right;\n",
       "    }\n",
       "</style>\n",
       "<table border=\"1\" class=\"dataframe\">\n",
       "  <thead>\n",
       "    <tr style=\"text-align: right;\">\n",
       "      <th></th>\n",
       "      <th>Sr No.</th>\n",
       "      <th>Utterance</th>\n",
       "      <th>Speaker</th>\n",
       "      <th>Emotion</th>\n",
       "      <th>Sentiment</th>\n",
       "      <th>Dialogue_ID</th>\n",
       "      <th>Utterance_ID</th>\n",
       "      <th>Season</th>\n",
       "      <th>Episode</th>\n",
       "      <th>StartTime</th>\n",
       "      <th>EndTime</th>\n",
       "      <th>Length</th>\n",
       "      <th>PitchMin</th>\n",
       "      <th>PitchMax</th>\n",
       "      <th>PitchRange</th>\n",
       "    </tr>\n",
       "  </thead>\n",
       "  <tbody>\n",
       "    <tr>\n",
       "      <th>0</th>\n",
       "      <td>1</td>\n",
       "      <td>Oh my God, he's lost it. He's totally lost it.</td>\n",
       "      <td>Phoebe</td>\n",
       "      <td>sadness</td>\n",
       "      <td>negative</td>\n",
       "      <td>0</td>\n",
       "      <td>0</td>\n",
       "      <td>4</td>\n",
       "      <td>7</td>\n",
       "      <td>1900-01-01 00:20:57.256</td>\n",
       "      <td>1900-01-01 00:21:00.049</td>\n",
       "      <td>2.793</td>\n",
       "      <td>65.477495</td>\n",
       "      <td>369.310721</td>\n",
       "      <td>303.833227</td>\n",
       "    </tr>\n",
       "    <tr>\n",
       "      <th>1</th>\n",
       "      <td>2</td>\n",
       "      <td>What?</td>\n",
       "      <td>Monica</td>\n",
       "      <td>surprise</td>\n",
       "      <td>negative</td>\n",
       "      <td>0</td>\n",
       "      <td>1</td>\n",
       "      <td>4</td>\n",
       "      <td>7</td>\n",
       "      <td>1900-01-01 00:21:01.927</td>\n",
       "      <td>1900-01-01 00:21:03.261</td>\n",
       "      <td>1.334</td>\n",
       "      <td>65.306122</td>\n",
       "      <td>901.811754</td>\n",
       "      <td>836.505632</td>\n",
       "    </tr>\n",
       "    <tr>\n",
       "      <th>2</th>\n",
       "      <td>3</td>\n",
       "      <td>Or! Or, we could go to the bank, close our acc...</td>\n",
       "      <td>Ross</td>\n",
       "      <td>neutral</td>\n",
       "      <td>neutral</td>\n",
       "      <td>1</td>\n",
       "      <td>0</td>\n",
       "      <td>4</td>\n",
       "      <td>4</td>\n",
       "      <td>1900-01-01 00:12:24.660</td>\n",
       "      <td>1900-01-01 00:12:30.915</td>\n",
       "      <td>6.255</td>\n",
       "      <td>65.306122</td>\n",
       "      <td>2285.714286</td>\n",
       "      <td>2220.408163</td>\n",
       "    </tr>\n",
       "    <tr>\n",
       "      <th>3</th>\n",
       "      <td>4</td>\n",
       "      <td>You're a genius!</td>\n",
       "      <td>Chandler</td>\n",
       "      <td>joy</td>\n",
       "      <td>positive</td>\n",
       "      <td>1</td>\n",
       "      <td>1</td>\n",
       "      <td>4</td>\n",
       "      <td>4</td>\n",
       "      <td>1900-01-01 00:12:32.334</td>\n",
       "      <td>1900-01-01 00:12:33.960</td>\n",
       "      <td>1.626</td>\n",
       "      <td>75.623646</td>\n",
       "      <td>2285.714286</td>\n",
       "      <td>2210.090640</td>\n",
       "    </tr>\n",
       "    <tr>\n",
       "      <th>4</th>\n",
       "      <td>5</td>\n",
       "      <td>Aww, man, now we won't be bank buddies!</td>\n",
       "      <td>Joey</td>\n",
       "      <td>sadness</td>\n",
       "      <td>negative</td>\n",
       "      <td>1</td>\n",
       "      <td>2</td>\n",
       "      <td>4</td>\n",
       "      <td>4</td>\n",
       "      <td>1900-01-01 00:12:34.211</td>\n",
       "      <td>1900-01-01 00:12:37.505</td>\n",
       "      <td>3.294</td>\n",
       "      <td>66.245523</td>\n",
       "      <td>584.526458</td>\n",
       "      <td>518.280936</td>\n",
       "    </tr>\n",
       "  </tbody>\n",
       "</table>\n",
       "</div>"
      ],
      "text/plain": [
       "   Sr No.                                          Utterance   Speaker   \n",
       "0       1     Oh my God, he's lost it. He's totally lost it.    Phoebe  \\\n",
       "1       2                                              What?    Monica   \n",
       "2       3  Or! Or, we could go to the bank, close our acc...      Ross   \n",
       "3       4                                   You're a genius!  Chandler   \n",
       "4       5            Aww, man, now we won't be bank buddies!      Joey   \n",
       "\n",
       "    Emotion Sentiment  Dialogue_ID  Utterance_ID  Season  Episode   \n",
       "0   sadness  negative            0             0       4        7  \\\n",
       "1  surprise  negative            0             1       4        7   \n",
       "2   neutral   neutral            1             0       4        4   \n",
       "3       joy  positive            1             1       4        4   \n",
       "4   sadness  negative            1             2       4        4   \n",
       "\n",
       "                 StartTime                  EndTime  Length   PitchMin   \n",
       "0  1900-01-01 00:20:57.256  1900-01-01 00:21:00.049   2.793  65.477495  \\\n",
       "1  1900-01-01 00:21:01.927  1900-01-01 00:21:03.261   1.334  65.306122   \n",
       "2  1900-01-01 00:12:24.660  1900-01-01 00:12:30.915   6.255  65.306122   \n",
       "3  1900-01-01 00:12:32.334  1900-01-01 00:12:33.960   1.626  75.623646   \n",
       "4  1900-01-01 00:12:34.211  1900-01-01 00:12:37.505   3.294  66.245523   \n",
       "\n",
       "      PitchMax   PitchRange  \n",
       "0   369.310721   303.833227  \n",
       "1   901.811754   836.505632  \n",
       "2  2285.714286  2220.408163  \n",
       "3  2285.714286  2210.090640  \n",
       "4   584.526458   518.280936  "
      ]
     },
     "execution_count": 4,
     "metadata": {},
     "output_type": "execute_result"
    }
   ],
   "source": [
    "# Show a number of raw ground truth labels\n",
    "raw_ground_truth_labels.head()"
   ]
  },
  {
   "cell_type": "code",
   "execution_count": 5,
   "metadata": {},
   "outputs": [],
   "source": [
    "def clean_raw_ground_truth_labels(raw_ground_truth_labels):\n",
    "    # Keep only the columns we need\n",
    "    ground_truth_labels = raw_ground_truth_labels[['Dialogue_ID', 'Utterance_ID', 'Length', 'PitchRange', 'Emotion']]\n",
    "\n",
    "    # Rename the columns\n",
    "    ground_truth_labels.columns = ['dialogue_id', 'utterance_id', 'length', 'pitch_range', 'ground_truth_emotion']\n",
    "\n",
    "    # Add an emotion_one_hot_index column\n",
    "    ground_truth_labels.loc[:,'ground_truth_emotion_one_hot_index'] = ground_truth_labels.loc[:,'ground_truth_emotion'].apply(lambda emotion: label_encoder.label_to_one_hot_index(emotion))\n",
    "\n",
    "    return ground_truth_labels"
   ]
  },
  {
   "attachments": {},
   "cell_type": "markdown",
   "metadata": {},
   "source": [
    "## Main"
   ]
  },
  {
   "cell_type": "code",
   "execution_count": 6,
   "metadata": {},
   "outputs": [
    {
     "name": "stderr",
     "output_type": "stream",
     "text": [
      "/tmp/ipykernel_25760/2080284501.py:9: SettingWithCopyWarning: \n",
      "A value is trying to be set on a copy of a slice from a DataFrame.\n",
      "Try using .loc[row_indexer,col_indexer] = value instead\n",
      "\n",
      "See the caveats in the documentation: https://pandas.pydata.org/pandas-docs/stable/user_guide/indexing.html#returning-a-view-versus-a-copy\n",
      "  ground_truth_labels.loc[:,'ground_truth_emotion_one_hot_index'] = ground_truth_labels.loc[:,'ground_truth_emotion'].apply(lambda emotion: label_encoder.label_to_one_hot_index(emotion))\n"
     ]
    }
   ],
   "source": [
    "# Clean the raw ground truth labels\n",
    "clean_ground_truth_labels = clean_raw_ground_truth_labels(raw_ground_truth_labels)\n",
    "\n",
    "# Save the clean ground truth labels\n",
    "clean_ground_truth_labels.to_csv(join(local_config.GROUND_TRUTH_FOLDER_PATH, 'ground_truth.csv'), index=False)"
   ]
  }
 ],
 "metadata": {
  "kernelspec": {
   "display_name": "base",
   "language": "python",
   "name": "python3"
  },
  "language_info": {
   "codemirror_mode": {
    "name": "ipython",
    "version": 3
   },
   "file_extension": ".py",
   "mimetype": "text/x-python",
   "name": "python",
   "nbconvert_exporter": "python",
   "pygments_lexer": "ipython3",
   "version": "3.10.9"
  },
  "orig_nbformat": 4
 },
 "nbformat": 4,
 "nbformat_minor": 2
}

{
 "cells": [
  {
   "attachments": {},
   "cell_type": "markdown",
   "metadata": {},
   "source": [
    "# Homero to Robbe model results conversion"
   ]
  },
  {
   "attachments": {},
   "cell_type": "markdown",
   "metadata": {},
   "source": [
    "## Setup"
   ]
  },
  {
   "cell_type": "code",
   "execution_count": 9,
   "metadata": {},
   "outputs": [],
   "source": [
    "# Set the code base path as the current working directory\n",
    "import sys\n",
    "sys.path.append('/workspaces/cvnlp_model_evaluation/src')"
   ]
  },
  {
   "cell_type": "code",
   "execution_count": 10,
   "metadata": {},
   "outputs": [],
   "source": [
    "import pandas as pd\n",
    "from os.path import join\n",
    "import util.local_config as local_config\n",
    "import json"
   ]
  },
  {
   "cell_type": "code",
   "execution_count": 11,
   "metadata": {},
   "outputs": [],
   "source": [
    "# Get the homero results\n",
    "homero_file_name = 'homero_results_1'\n",
    "homero_results = pd.read_csv(join(local_config.TEXT_MODEL_RESULTS_FOLDER_PATH, 'homero_results', f'{homero_file_name}.csv'), index_col=0)"
   ]
  },
  {
   "cell_type": "code",
   "execution_count": 12,
   "metadata": {},
   "outputs": [
    {
     "data": {
      "text/html": [
       "<div>\n",
       "<style scoped>\n",
       "    .dataframe tbody tr th:only-of-type {\n",
       "        vertical-align: middle;\n",
       "    }\n",
       "\n",
       "    .dataframe tbody tr th {\n",
       "        vertical-align: top;\n",
       "    }\n",
       "\n",
       "    .dataframe thead th {\n",
       "        text-align: right;\n",
       "    }\n",
       "</style>\n",
       "<table border=\"1\" class=\"dataframe\">\n",
       "  <thead>\n",
       "    <tr style=\"text-align: right;\">\n",
       "      <th></th>\n",
       "      <th>Dialogue_ID</th>\n",
       "      <th>Utterance_ID</th>\n",
       "      <th>model_pred</th>\n",
       "      <th>0</th>\n",
       "      <th>1</th>\n",
       "      <th>2</th>\n",
       "      <th>3</th>\n",
       "      <th>4</th>\n",
       "      <th>5</th>\n",
       "      <th>6</th>\n",
       "    </tr>\n",
       "  </thead>\n",
       "  <tbody>\n",
       "    <tr>\n",
       "      <th>0</th>\n",
       "      <td>0</td>\n",
       "      <td>0</td>\n",
       "      <td>6</td>\n",
       "      <td>0.078667</td>\n",
       "      <td>0.079547</td>\n",
       "      <td>0.127847</td>\n",
       "      <td>0.025739</td>\n",
       "      <td>0.047009</td>\n",
       "      <td>0.057820</td>\n",
       "      <td>0.583370</td>\n",
       "    </tr>\n",
       "    <tr>\n",
       "      <th>1</th>\n",
       "      <td>0</td>\n",
       "      <td>1</td>\n",
       "      <td>4</td>\n",
       "      <td>0.130414</td>\n",
       "      <td>0.091628</td>\n",
       "      <td>0.067096</td>\n",
       "      <td>0.246394</td>\n",
       "      <td>0.321644</td>\n",
       "      <td>0.093675</td>\n",
       "      <td>0.049150</td>\n",
       "    </tr>\n",
       "    <tr>\n",
       "      <th>2</th>\n",
       "      <td>0</td>\n",
       "      <td>2</td>\n",
       "      <td>4</td>\n",
       "      <td>0.128082</td>\n",
       "      <td>0.079608</td>\n",
       "      <td>0.102042</td>\n",
       "      <td>0.198844</td>\n",
       "      <td>0.351036</td>\n",
       "      <td>0.075768</td>\n",
       "      <td>0.064619</td>\n",
       "    </tr>\n",
       "    <tr>\n",
       "      <th>3</th>\n",
       "      <td>1</td>\n",
       "      <td>0</td>\n",
       "      <td>4</td>\n",
       "      <td>0.163778</td>\n",
       "      <td>0.108712</td>\n",
       "      <td>0.096479</td>\n",
       "      <td>0.210214</td>\n",
       "      <td>0.271940</td>\n",
       "      <td>0.106731</td>\n",
       "      <td>0.042146</td>\n",
       "    </tr>\n",
       "    <tr>\n",
       "      <th>4</th>\n",
       "      <td>1</td>\n",
       "      <td>1</td>\n",
       "      <td>2</td>\n",
       "      <td>0.164228</td>\n",
       "      <td>0.130154</td>\n",
       "      <td>0.266149</td>\n",
       "      <td>0.086425</td>\n",
       "      <td>0.136461</td>\n",
       "      <td>0.129400</td>\n",
       "      <td>0.087183</td>\n",
       "    </tr>\n",
       "  </tbody>\n",
       "</table>\n",
       "</div>"
      ],
      "text/plain": [
       "   Dialogue_ID  Utterance_ID  model_pred         0         1         2   \n",
       "0            0             0           6  0.078667  0.079547  0.127847  \\\n",
       "1            0             1           4  0.130414  0.091628  0.067096   \n",
       "2            0             2           4  0.128082  0.079608  0.102042   \n",
       "3            1             0           4  0.163778  0.108712  0.096479   \n",
       "4            1             1           2  0.164228  0.130154  0.266149   \n",
       "\n",
       "          3         4         5         6  \n",
       "0  0.025739  0.047009  0.057820  0.583370  \n",
       "1  0.246394  0.321644  0.093675  0.049150  \n",
       "2  0.198844  0.351036  0.075768  0.064619  \n",
       "3  0.210214  0.271940  0.106731  0.042146  \n",
       "4  0.086425  0.136461  0.129400  0.087183  "
      ]
     },
     "execution_count": 12,
     "metadata": {},
     "output_type": "execute_result"
    }
   ],
   "source": [
    "homero_results.head(5)"
   ]
  },
  {
   "cell_type": "code",
   "execution_count": 13,
   "metadata": {},
   "outputs": [],
   "source": [
    "def convert_results_row(results_row):\n",
    "    # Change the model prediction's one-hot index to our one-hot index\n",
    "    results_row['model_pred'] = local_config.HOMER_CONVERSION_ONE_HOT_INDEX_TO_OUR_ONE_HOT_INDEX[results_row['model_pred']]\n",
    "\n",
    "    # Get the model's prediction per emotion class\n",
    "    neutral_prediction = results_row['4']\n",
    "    surprise_prediction = results_row['6']\n",
    "    fear_prediction = results_row['2']\n",
    "    sadness_prediction = results_row['5']\n",
    "    joy_prediction = results_row['3']\n",
    "    disgust_prediction = results_row['1']\n",
    "    anger_prediction = results_row['0']\n",
    "\n",
    "    # Combine the model's prediction per emotion class into a list\n",
    "    model_predictions_per_emotion_class = [\n",
    "        neutral_prediction, \n",
    "        surprise_prediction, \n",
    "        fear_prediction, \n",
    "        sadness_prediction, \n",
    "        joy_prediction, \n",
    "        disgust_prediction, \n",
    "        anger_prediction\n",
    "    ]\n",
    "\n",
    "    # Get the json string representation of the model's prediction per emotion class\n",
    "    model_predictions_per_emotion_class_json_string = json.dumps(model_predictions_per_emotion_class)\n",
    "\n",
    "    # Add the model's prediction per emotion class to the results row\n",
    "    results_row['model_outputs'] = model_predictions_per_emotion_class_json_string\n",
    "\n",
    "    # Remove the model's prediction per emotion class columns from the results row\n",
    "    results_row = results_row.drop(['4', '6', '2', '5', '3', '1', '0'])\n",
    "\n",
    "    return results_row"
   ]
  },
  {
   "attachments": {},
   "cell_type": "markdown",
   "metadata": {},
   "source": [
    "## Main"
   ]
  },
  {
   "cell_type": "code",
   "execution_count": 14,
   "metadata": {},
   "outputs": [],
   "source": [
    "# Convert the homero results\n",
    "converted_homero_results = homero_results.apply(convert_results_row, axis=1)\n",
    "\n",
    "# Rename the columns\n",
    "converted_homero_results = converted_homero_results.rename({\n",
    "        'Dialogue_ID': 'dialogue_id',\n",
    "        'Utterance_ID': 'utterance_id',\n",
    "        'model_pred': 'model_prediction'\n",
    "    }, axis=1)"
   ]
  },
  {
   "cell_type": "code",
   "execution_count": 15,
   "metadata": {},
   "outputs": [
    {
     "data": {
      "text/html": [
       "<div>\n",
       "<style scoped>\n",
       "    .dataframe tbody tr th:only-of-type {\n",
       "        vertical-align: middle;\n",
       "    }\n",
       "\n",
       "    .dataframe tbody tr th {\n",
       "        vertical-align: top;\n",
       "    }\n",
       "\n",
       "    .dataframe thead th {\n",
       "        text-align: right;\n",
       "    }\n",
       "</style>\n",
       "<table border=\"1\" class=\"dataframe\">\n",
       "  <thead>\n",
       "    <tr style=\"text-align: right;\">\n",
       "      <th></th>\n",
       "      <th>dialogue_id</th>\n",
       "      <th>utterance_id</th>\n",
       "      <th>model_prediction</th>\n",
       "      <th>model_outputs</th>\n",
       "    </tr>\n",
       "  </thead>\n",
       "  <tbody>\n",
       "    <tr>\n",
       "      <th>0</th>\n",
       "      <td>0.0</td>\n",
       "      <td>0.0</td>\n",
       "      <td>1.0</td>\n",
       "      <td>[0.047009233, 0.5833697, 0.12784746, 0.0578204...</td>\n",
       "    </tr>\n",
       "    <tr>\n",
       "      <th>1</th>\n",
       "      <td>0.0</td>\n",
       "      <td>1.0</td>\n",
       "      <td>0.0</td>\n",
       "      <td>[0.32164365, 0.04915007, 0.067095585, 0.093675...</td>\n",
       "    </tr>\n",
       "    <tr>\n",
       "      <th>2</th>\n",
       "      <td>0.0</td>\n",
       "      <td>2.0</td>\n",
       "      <td>0.0</td>\n",
       "      <td>[0.35103637, 0.06461884, 0.10204226, 0.0757681...</td>\n",
       "    </tr>\n",
       "    <tr>\n",
       "      <th>3</th>\n",
       "      <td>1.0</td>\n",
       "      <td>0.0</td>\n",
       "      <td>0.0</td>\n",
       "      <td>[0.27193958, 0.04214588, 0.09647946, 0.1067311...</td>\n",
       "    </tr>\n",
       "    <tr>\n",
       "      <th>4</th>\n",
       "      <td>1.0</td>\n",
       "      <td>1.0</td>\n",
       "      <td>2.0</td>\n",
       "      <td>[0.1364609, 0.08718251, 0.26614937, 0.12940022...</td>\n",
       "    </tr>\n",
       "  </tbody>\n",
       "</table>\n",
       "</div>"
      ],
      "text/plain": [
       "   dialogue_id  utterance_id  model_prediction   \n",
       "0          0.0           0.0               1.0  \\\n",
       "1          0.0           1.0               0.0   \n",
       "2          0.0           2.0               0.0   \n",
       "3          1.0           0.0               0.0   \n",
       "4          1.0           1.0               2.0   \n",
       "\n",
       "                                       model_outputs  \n",
       "0  [0.047009233, 0.5833697, 0.12784746, 0.0578204...  \n",
       "1  [0.32164365, 0.04915007, 0.067095585, 0.093675...  \n",
       "2  [0.35103637, 0.06461884, 0.10204226, 0.0757681...  \n",
       "3  [0.27193958, 0.04214588, 0.09647946, 0.1067311...  \n",
       "4  [0.1364609, 0.08718251, 0.26614937, 0.12940022...  "
      ]
     },
     "execution_count": 15,
     "metadata": {},
     "output_type": "execute_result"
    }
   ],
   "source": [
    "converted_homero_results.head(5)"
   ]
  },
  {
   "cell_type": "code",
   "execution_count": 16,
   "metadata": {},
   "outputs": [],
   "source": [
    "# Save the converted homero results\n",
    "converted_homero_results.to_csv(join(local_config.TEXT_MODEL_RESULTS_FOLDER_PATH, f'converted_{homero_file_name}.csv'), index=False)"
   ]
  }
 ],
 "metadata": {
  "kernelspec": {
   "display_name": "base",
   "language": "python",
   "name": "python3"
  },
  "language_info": {
   "codemirror_mode": {
    "name": "ipython",
    "version": 3
   },
   "file_extension": ".py",
   "mimetype": "text/x-python",
   "name": "python",
   "nbconvert_exporter": "python",
   "pygments_lexer": "ipython3",
   "version": "3.10.9"
  },
  "orig_nbformat": 4
 },
 "nbformat": 4,
 "nbformat_minor": 2
}

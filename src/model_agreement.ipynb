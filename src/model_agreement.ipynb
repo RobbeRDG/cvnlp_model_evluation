{
 "cells": [
  {
   "attachments": {},
   "cell_type": "markdown",
   "metadata": {},
   "source": [
    "# Model agreement"
   ]
  },
  {
   "attachments": {},
   "cell_type": "markdown",
   "metadata": {},
   "source": [
    "## Setup"
   ]
  },
  {
   "cell_type": "code",
   "execution_count": 1,
   "metadata": {},
   "outputs": [],
   "source": [
    "import util.local_config as local_config\n",
    "import pandas as pd\n",
    "import numpy as np\n",
    "from sklearn.metrics import f1_score, cohen_kappa_score\n",
    "import matplotlib.pyplot as plt\n",
    "from util.helper_functions.classification_report_output_processon import print_classification_report"
   ]
  },
  {
   "cell_type": "code",
   "execution_count": 2,
   "metadata": {},
   "outputs": [],
   "source": [
    "# Get the ground truth labels\n",
    "ground_truth_labels = local_config.GROUND_TRUTH_LABELS\n",
    "\n",
    "# From the ground truth labels, we only need the dialogue_id, utterance_id, and the ground truth emotion one hot index\n",
    "ground_truth_labels = ground_truth_labels[['dialogue_id', 'utterance_id', 'ground_truth_emotion_one_hot_index']]\n",
    "\n",
    "# Get the speech and text model results dataframes\n",
    "speech_model_results = local_config.SPEECH_MODEL_RESULTS\n",
    "text_model_results = local_config.TEXT_MODEL_RESULTS\n",
    "\n",
    "# From the speech and text models, we only need the dialogue_id, utterance_id, and the predicted emotion\n",
    "speech_model_results = speech_model_results[['dialogue_id', 'utterance_id', 'model_prediction']]\n",
    "text_model_results = text_model_results[['dialogue_id', 'utterance_id', 'model_prediction']]\n",
    "\n",
    "# Rename the predicted emotion column to speech_predicted_emotion and text_predicted_emotion\n",
    "speech_model_results = speech_model_results.rename(columns={'model_prediction': 'speech_predicted_emotion'})\n",
    "text_model_results = text_model_results.rename(columns={'model_prediction': 'text_predicted_emotion'})\n",
    "\n",
    "# Combine both the speech and text model results\n",
    "model_results = pd.merge(text_model_results, speech_model_results, on=['dialogue_id', 'utterance_id'])\n",
    "\n",
    "# Merge the ground truth labels with results\n",
    "model_results = pd.merge(model_results, ground_truth_labels, on=['dialogue_id', 'utterance_id'])"
   ]
  },
  {
   "attachments": {},
   "cell_type": "markdown",
   "metadata": {},
   "source": [
    "## Main"
   ]
  },
  {
   "attachments": {},
   "cell_type": "markdown",
   "metadata": {},
   "source": [
    "### Cohen kappa score"
   ]
  },
  {
   "cell_type": "code",
   "execution_count": 3,
   "metadata": {},
   "outputs": [
    {
     "name": "stdout",
     "output_type": "stream",
     "text": [
      "Cohen's kappa score between text and speech model: 1.0\n"
     ]
    }
   ],
   "source": [
    "# Calculate the cohen's kappa score\n",
    "cohen_kappa_score = cohen_kappa_score(model_results['text_predicted_emotion'], model_results['speech_predicted_emotion'])\n",
    "\n",
    "# Print the cohen's kappa score\n",
    "print(f'Cohen\\'s kappa score between text and speech model: {cohen_kappa_score}')"
   ]
  },
  {
   "attachments": {},
   "cell_type": "markdown",
   "metadata": {},
   "source": [
    "### Calculate how many times one or both models had the right prediction"
   ]
  },
  {
   "cell_type": "code",
   "execution_count": 4,
   "metadata": {},
   "outputs": [],
   "source": [
    "# Get the total number of utterances\n",
    "total_utterances = model_results.shape[0]\n",
    "\n",
    "# Calculate how many times the text and speech model agreed and had the correct prediction\n",
    "both_agreed_and_correct_count = model_results.loc[\n",
    "    (model_results['text_predicted_emotion'] == model_results['speech_predicted_emotion']) & \n",
    "    (model_results['text_predicted_emotion'] == model_results['ground_truth_emotion_one_hot_index'])\n",
    "    ].count()[0]\n",
    "\n",
    "# Calculate how many times the text and speech model disagreed and the text model had the correct prediction\n",
    "text_model_correct_count = model_results.loc[\n",
    "    (model_results['text_predicted_emotion'] != model_results['speech_predicted_emotion']) &\n",
    "    (model_results['text_predicted_emotion'] == model_results['ground_truth_emotion_one_hot_index'])\n",
    "    ].count()[0]\n",
    "\n",
    "# Calculate how many times the text and speech model disagreed and the speech model had the correct prediction\n",
    "speech_model_correct_count = model_results.loc[\n",
    "    (model_results['text_predicted_emotion'] != model_results['speech_predicted_emotion']) &\n",
    "    (model_results['speech_predicted_emotion'] == model_results['ground_truth_emotion_one_hot_index'])\n",
    "    ].count()[0]\n",
    "\n",
    "# Calculate how many times the text and speech model agreed but had the wrong prediction\n",
    "both_agreed_but_wrong_count = model_results.loc[\n",
    "    (model_results['text_predicted_emotion'] == model_results['speech_predicted_emotion']) &\n",
    "    (model_results['text_predicted_emotion'] != model_results['ground_truth_emotion_one_hot_index'])\n",
    "    ].count()[0]\n",
    "\n",
    "# Calculate how many times the text and speech model disagreed and all the wrong prediction\n",
    "both_disagreed_and_wrong_count = model_results.loc[\n",
    "    (model_results['text_predicted_emotion'] != model_results['speech_predicted_emotion']) &\n",
    "    (model_results['text_predicted_emotion'] != model_results['ground_truth_emotion_one_hot_index']) &\n",
    "    (model_results['speech_predicted_emotion'] != model_results['ground_truth_emotion_one_hot_index'])\n",
    "    ].count()[0]"
   ]
  },
  {
   "cell_type": "code",
   "execution_count": 5,
   "metadata": {},
   "outputs": [
    {
     "name": "stdout",
     "output_type": "stream",
     "text": [
      "Percentage of times the text and speech model agreed and had the correct prediction: 0.30184331797235026\n",
      "Percentage of times the text and speech model disagreed and the text model had the correct prediction: 0.0\n",
      "Percentage of times the text and speech model disagreed and the speech model had the correct prediction: 0.0\n",
      "Percentage of times the text and speech model agreed but had the wrong prediction: 0.6981566820276498\n",
      "Percentage of times the text and speech model disagreed and both had the wrong prediction: 0.0\n"
     ]
    }
   ],
   "source": [
    "# Print the percentage results\n",
    "print(f'Percentage of times the text and speech model agreed and had the correct prediction: {both_agreed_and_correct_count / total_utterances}')\n",
    "print(f'Percentage of times the text and speech model disagreed and the text model had the correct prediction: {text_model_correct_count / total_utterances}')\n",
    "print(f'Percentage of times the text and speech model disagreed and the speech model had the correct prediction: {speech_model_correct_count / total_utterances}')\n",
    "print(f'Percentage of times the text and speech model agreed but had the wrong prediction: {both_agreed_but_wrong_count / total_utterances}')\n",
    "print(f'Percentage of times the text and speech model disagreed and both had the wrong prediction: {both_disagreed_and_wrong_count / total_utterances}')"
   ]
  }
 ],
 "metadata": {
  "kernelspec": {
   "display_name": "base",
   "language": "python",
   "name": "python3"
  },
  "language_info": {
   "codemirror_mode": {
    "name": "ipython",
    "version": 3
   },
   "file_extension": ".py",
   "mimetype": "text/x-python",
   "name": "python",
   "nbconvert_exporter": "python",
   "pygments_lexer": "ipython3",
   "version": "3.10.9"
  },
  "orig_nbformat": 4
 },
 "nbformat": 4,
 "nbformat_minor": 2
}

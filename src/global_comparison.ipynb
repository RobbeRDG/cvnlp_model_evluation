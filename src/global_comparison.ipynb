{
 "cells": [
  {
   "attachments": {},
   "cell_type": "markdown",
   "metadata": {},
   "source": [
    "# Global comparison"
   ]
  },
  {
   "attachments": {},
   "cell_type": "markdown",
   "metadata": {},
   "source": [
    "## Setup"
   ]
  },
  {
   "cell_type": "code",
   "execution_count": 1,
   "metadata": {},
   "outputs": [],
   "source": [
    "import util.local_config as local_config\n",
    "import pandas as pd\n",
    "import numpy as np\n",
    "from sklearn.metrics import f1_score, precision_score, recall_score, accuracy_score, classification_report\n",
    "import matplotlib.pyplot as plt\n",
    "from util.helper_functions.classification_report_output_processon import print_classification_report"
   ]
  },
  {
   "cell_type": "code",
   "execution_count": 2,
   "metadata": {},
   "outputs": [],
   "source": [
    "# Get the ground truth labels\n",
    "ground_truth_labels = local_config.GROUND_TRUTH_LABELS\n",
    "\n",
    "# Get the speech and text model results dataframes\n",
    "speech_model_results = local_config.SPEECH_MODEL_RESULTS\n",
    "text_model_results = local_config.TEXT_MODEL_RESULTS\n",
    "\n",
    "# Merge the ground truth labels with the speech model results\n",
    "speech_model_results = pd.merge(speech_model_results, ground_truth_labels, on=['dialogue_id', 'utterance_id'])\n",
    "\n",
    "# Merge the ground truth labels with the text model results\n",
    "text_model_results = pd.merge(text_model_results, ground_truth_labels, on=['dialogue_id', 'utterance_id'])"
   ]
  },
  {
   "attachments": {},
   "cell_type": "markdown",
   "metadata": {},
   "source": [
    "## Main"
   ]
  },
  {
   "cell_type": "code",
   "execution_count": 3,
   "metadata": {},
   "outputs": [
    {
     "name": "stdout",
     "output_type": "stream",
     "text": [
      "Text Model\n",
      "------------------------------------\n",
      "accuracy: 0.33801717408274784\n",
      "weighted recall: 0.33801717408274784\n",
      "weighted precision: 0.48245884800814964\n",
      "weighted f1-score: 0.33427391823287206\n"
     ]
    }
   ],
   "source": [
    "# Get the text model's accuracy, weighted recall, weighted precision, and weigthed f1-score\n",
    "text_model_accuracy = accuracy_score(text_model_results['ground_truth_emotion_one_hot_index'], text_model_results['model_prediction'])\n",
    "text_model_weighted_recall = recall_score(text_model_results['ground_truth_emotion_one_hot_index'], text_model_results['model_prediction'], average='weighted')\n",
    "text_model_weighted_precision = precision_score(text_model_results['ground_truth_emotion_one_hot_index'], text_model_results['model_prediction'], average='weighted')\n",
    "text_model_weighted_f1_score = f1_score(text_model_results['ground_truth_emotion_one_hot_index'], text_model_results['model_prediction'], average='weighted')\n",
    "\n",
    "# Print the text model's accuracy, weighted recall, weighted precision, and weigthed f1-score\n",
    "print('Text Model')\n",
    "print('------------------------------------')\n",
    "print(f'accuracy: {text_model_accuracy}')\n",
    "print(f'weighted recall: {text_model_weighted_recall}')\n",
    "print(f'weighted precision: {text_model_weighted_precision}')\n",
    "print(f'weighted f1-score: {text_model_weighted_f1_score}')"
   ]
  },
  {
   "cell_type": "code",
   "execution_count": 4,
   "metadata": {},
   "outputs": [
    {
     "name": "stdout",
     "output_type": "stream",
     "text": [
      "Speech Model\n",
      "------------------------------------\n",
      "accuracy: 0.4652615144418423\n",
      "weighted recall: 0.4652615144418423\n",
      "weighted precision: 0.45504868906303936\n",
      "weighted f1-score: 0.4583560328257517\n"
     ]
    }
   ],
   "source": [
    "# Get the speech model's accuracy, weighted recall, weighted precision, and weigthed f1-score\n",
    "speech_model_accuracy = accuracy_score(speech_model_results['ground_truth_emotion_one_hot_index'], speech_model_results['model_prediction'])\n",
    "speech_model_weighted_recall = recall_score(speech_model_results['ground_truth_emotion_one_hot_index'], speech_model_results['model_prediction'], average='weighted')\n",
    "speech_model_weighted_precision = precision_score(speech_model_results['ground_truth_emotion_one_hot_index'], speech_model_results['model_prediction'], average='weighted')\n",
    "speech_model_weighted_f1_score = f1_score(speech_model_results['ground_truth_emotion_one_hot_index'], speech_model_results['model_prediction'], average='weighted')\n",
    "\n",
    "# Print the speech model's accuracy, weighted recall, weighted precision, and weigthed f1-score\n",
    "print('Speech Model')\n",
    "print('------------------------------------')\n",
    "print(f'accuracy: {speech_model_accuracy}')\n",
    "print(f'weighted recall: {speech_model_weighted_recall}')\n",
    "print(f'weighted precision: {speech_model_weighted_precision}')\n",
    "print(f'weighted f1-score: {speech_model_weighted_f1_score}')\n"
   ]
  }
 ],
 "metadata": {
  "kernelspec": {
   "display_name": "base",
   "language": "python",
   "name": "python3"
  },
  "language_info": {
   "codemirror_mode": {
    "name": "ipython",
    "version": 3
   },
   "file_extension": ".py",
   "mimetype": "text/x-python",
   "name": "python",
   "nbconvert_exporter": "python",
   "pygments_lexer": "ipython3",
   "version": "3.10.9"
  },
  "orig_nbformat": 4
 },
 "nbformat": 4,
 "nbformat_minor": 2
}
